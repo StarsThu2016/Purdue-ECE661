{
 "cells": [
  {
   "cell_type": "code",
   "execution_count": 2,
   "metadata": {},
   "outputs": [
    {
     "name": "stdout",
     "output_type": "stream",
     "text": [
      "(4032, 3024)\n"
     ]
    }
   ],
   "source": [
    "from PIL import Image\n",
    "#im = Image.open(\"img1.jpg\")\n",
    "#print(im.size)\n",
    "#im = im.resize((800,600))\n",
    "#im.show()\n",
    "#im.save(\"2-1.jpg\")"
   ]
  },
  {
   "cell_type": "code",
   "execution_count": 7,
   "metadata": {},
   "outputs": [],
   "source": [
    "#im = Image.open(\"img2.jpg\").resize((800,600))\n",
    "#im.save(\"2-2.jpg\")\n",
    "#im = Image.open(\"img3.jpg\").resize((800,600))\n",
    "#im.save(\"2-3.jpg\")"
   ]
  },
  {
   "cell_type": "code",
   "execution_count": 12,
   "metadata": {},
   "outputs": [
    {
     "name": "stdout",
     "output_type": "stream",
     "text": [
      "(1280, 720)\n",
      "(880, 720)\n"
     ]
    }
   ],
   "source": [
    "#im = Image.open(\"Einstein.jpg\")\n",
    "#print(im.size)\n",
    "#im = im.crop((150, 0, im.size[0]-250, im.size[1]))\n",
    "#print(im.size)\n",
    "#im.show()\n",
    "#im.save(\"2-4.jpg\")"
   ]
  },
  {
   "cell_type": "code",
   "execution_count": 22,
   "metadata": {},
   "outputs": [],
   "source": [
    "im = Image.open(\"img1.jpg\")\n",
    "im = im.resize((800,600))\n",
    "im = im.crop((150, 50, im.size[0]-150, im.size[1]-50))\n",
    "#im.show()\n",
    "im.save(\"2-1.jpg\")\n",
    "\n",
    "im = Image.open(\"img2.jpg\")\n",
    "im = im.resize((800,600))\n",
    "im = im.crop((150, 50, im.size[0]-150, im.size[1]-50))\n",
    "#im.show()\n",
    "im.save(\"2-2.jpg\")\n",
    "\n",
    "im = Image.open(\"img3.jpg\")\n",
    "im = im.resize((800,600))\n",
    "im = im.crop((150, 50, im.size[0]-150, im.size[1]-50))\n",
    "#im.show()\n",
    "im.save(\"2-3.jpg\")"
   ]
  }
 ],
 "metadata": {
  "kernelspec": {
   "display_name": "Python 3",
   "language": "python",
   "name": "python3"
  },
  "language_info": {
   "codemirror_mode": {
    "name": "ipython",
    "version": 3
   },
   "file_extension": ".py",
   "mimetype": "text/x-python",
   "name": "python",
   "nbconvert_exporter": "python",
   "pygments_lexer": "ipython3",
   "version": "3.6.4"
  }
 },
 "nbformat": 4,
 "nbformat_minor": 2
}
