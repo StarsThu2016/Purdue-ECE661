{
 "cells": [
  {
   "cell_type": "code",
   "execution_count": 1,
   "metadata": {},
   "outputs": [],
   "source": [
    "# This is the main python script for ECE 661 hw3\n",
    "# To run: python3 main.py\n",
    "import numpy as np\n",
    "from PIL import Image\n",
    "from homography_util import *\n",
    "\n",
    "#Method 1\n",
    "A_camera = np.transpose(np.array([[1141,815,1], [1258,761,1], [1126,993,1], [1245,945,1]]))\n",
    "A_world = np.transpose(np.array([[0,0,1], [60,0,1], [0,80,1], [60,80,1]]))\n",
    "B_camera = np.transpose(np.array([[232,57,1], [336,73,1], [232,286,1], [335,278,1]]))\n",
    "B_world = np.transpose(np.array([[0,0,1], [40,0,1], [0,80,1], [40,80,1]]))\n",
    "C_camera = np.transpose(np.array([[1407,675,1], [3330,420,1], [1434,2145,1], [3189,2790,1]]))\n",
    "C_world = np.transpose(np.array([[0,0,1], [1000,0,1], [0,810,1], [1000,810,1]]))\n",
    "D_camera = np.transpose(np.array([[1216,1224,1], [1774,558,1], [1498,2158,1], [2226,1666,1]]))\n",
    "D_world = np.transpose(np.array([[0,0,1], [460,0,1], [0,460,1], [460,460,1]]))\n",
    "img1 = np.array(Image.open(\"1.jpg\"))\n",
    "img2 = np.array(Image.open(\"2.jpg\"))\n",
    "img3 = np.array(Image.open(\"3.jpg\"))\n",
    "img4 = np.array(Image.open(\"4.jpg\"))"
   ]
  },
  {
   "cell_type": "code",
   "execution_count": 2,
   "metadata": {},
   "outputs": [
    {
     "name": "stdout",
     "output_type": "stream",
     "text": [
      "(H1_p2p, H2_p2p) =  [[ 1.36553056e+00  1.15072800e-01 -1.65185470e+03]\n",
      " [ 5.42695392e-01  1.17584002e+00 -1.57752506e+03]\n",
      " [ 1.00884681e-03  3.81195510e-04  1.00000000e+00]] [[ 2.78561403e-01 -3.41817980e-17 -6.46262456e+01]\n",
      " [-4.30323578e-02  2.79710325e-01 -5.95998155e+00]\n",
      " [-8.12414217e-04 -3.79338990e-05  1.00000000e+00]]\n",
      "(H3_p2p, H4_p2p) =  [[ 1.54055683e+00 -2.82959418e-02 -2.14846370e+03]\n",
      " [ 1.22673464e-01  9.25102238e-01 -7.97045574e+02]\n",
      " [ 6.02114035e-04 -8.41273486e-05  1.00000000e+00]] [[ 1.64770462e+00 -4.97486835e-01 -1.39468494e+03]\n",
      " [ 1.04634285e+00  8.76665632e-01 -2.34539164e+03]\n",
      " [ 9.74616206e-04 -1.78447749e-05  1.00000000e+00]]\n",
      "(x_min,y_min) = (-1651,-1577)\n",
      "(x_min,y_min) = (-65,-50)\n",
      "(x_min,y_min) = (-2995,-797)\n",
      "(x_min,y_min) = (-3063,-2345)\n"
     ]
    }
   ],
   "source": [
    "# Homography from camera to world\n",
    "H1_p2p = Homography(A_camera, A_world)\n",
    "H2_p2p = Homography(B_camera, B_world)\n",
    "H3_p2p = Homography(C_camera, C_world)\n",
    "H4_p2p = Homography(D_camera, D_world)\n",
    "print(\"(H1_p2p, H2_p2p) = \", H1_p2p, H2_p2p)\n",
    "print(\"(H3_p2p, H4_p2p) = \", H3_p2p, H4_p2p)\n",
    "\n",
    "(x_min,y_min,mapped) = Mapped(img1, H1_p2p)\n",
    "mapped = Image.fromarray(np.uint8(mapped), 'RGB')\n",
    "mapped.save(\"img1-m1.jpg\")\n",
    "print(\"(x_min,y_min) = (%d,%d)\" %(x_min,y_min))\n",
    "\n",
    "(x_min,y_min,mapped) = Mapped(img2, H2_p2p)\n",
    "mapped = Image.fromarray(np.uint8(mapped), 'RGB')\n",
    "mapped.save(\"img2-m1.jpg\")\n",
    "print(\"(x_min,y_min) = (%d,%d)\" %(x_min,y_min))\n",
    "\n",
    "(x_min,y_min,mapped) = Mapped(img3, H3_p2p)\n",
    "mapped = Image.fromarray(np.uint8(mapped), 'RGB')\n",
    "mapped.save(\"img3-m1.jpg\")\n",
    "print(\"(x_min,y_min) = (%d,%d)\" %(x_min,y_min))\n",
    "\n",
    "(x_min,y_min,mapped) = Mapped(img4, H4_p2p)\n",
    "mapped = Image.fromarray(np.uint8(mapped), 'RGB')\n",
    "mapped.save(\"img4-m1.jpg\")\n",
    "print(\"(x_min,y_min) = (%d,%d)\" %(x_min,y_min))\n"
   ]
  }
 ],
 "metadata": {
  "kernelspec": {
   "display_name": "Python 3",
   "language": "python",
   "name": "python3"
  },
  "language_info": {
   "codemirror_mode": {
    "name": "ipython",
    "version": 3
   },
   "file_extension": ".py",
   "mimetype": "text/x-python",
   "name": "python",
   "nbconvert_exporter": "python",
   "pygments_lexer": "ipython3",
   "version": "3.6.4"
  }
 },
 "nbformat": 4,
 "nbformat_minor": 2
}
