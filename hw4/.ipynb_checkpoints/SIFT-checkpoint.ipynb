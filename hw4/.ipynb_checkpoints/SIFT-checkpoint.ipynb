{
 "cells": [
  {
   "cell_type": "code",
   "execution_count": 1,
   "metadata": {},
   "outputs": [],
   "source": [
    "import numpy as np\n",
    "import cv2 as cv\n",
    "def SSD(f1, f2):\n",
    "    return np.sum((f1-f2)**2)\n",
    "def NCC(f1, f2):\n",
    "    m1 = np.mean(f1)\n",
    "    m2 = np.mean(f2)\n",
    "    top = np.sum((f1-m1)*(f2-m2))\n",
    "    bottom = np.sqrt(np.sum((f1-m1)**2)*np.sum((f2-m2)**2))\n",
    "    return top/bottom\n",
    "def Correspondence(FM1, Coord1, FM2, Coord2, metric = \"SSD\"): \n",
    "    #(#,128), [i].pt=(2,), (##,128), [i].pt=(2,)\n",
    "    N1 = FM1.shape[0]\n",
    "    N2 = FM2.shape[0]\n",
    "    Pairs = []\n",
    "    Scores = []\n",
    "    if metric==\"SSD\":\n",
    "        for idx1 in range(N1):\n",
    "            Score = np.array([SSD(FM1[idx1,:], FM2[idx2,:]) for idx2 in range(N2)])\n",
    "            idx2 = np.argmin(Score)\n",
    "            Scores.append(np.min(Score))\n",
    "            Pairs.append((idx1,idx2))\n",
    "        # Select 100 pairs\n",
    "        BestPairs = [x for _,x in sorted(zip(Scores,Pairs))]  # Incresing order\n",
    "    if metric==\"NCC\":\n",
    "        for idx1 in range(N1):\n",
    "            Score = np.array([NCC(FM1[idx1,:], FM2[idx2,:]) for idx2 in range(N2)])\n",
    "            idx2 = np.argmax(Score)\n",
    "            Scores.append(np.max(Score))\n",
    "            Pairs.append((idx1,idx2)) \n",
    "        # Select 100 pairs\n",
    "        BestPairs = [x for _,x in sorted(zip(Scores,Pairs), reverse = True)]  # Decresing order   \n",
    "    return BestPairs[0:int(np.min([100,len(BestPairs)]))]   \n",
    "def DrawPairs(input_image1, input_image2, Coord1, Coord2, Pairs, metric = \"SSD\"):\n",
    "    left = cv.imread(\"HW4Pics/%s.jpg\" %input_image1)\n",
    "    right = cv.imread(\"HW4Pics/%s.jpg\" %input_image2)\n",
    "    output = np.concatenate((left, right), axis = 1)\n",
    "    for (idx1, idx2) in Pairs:\n",
    "        x1 = int(Coord1[idx1].pt[0])\n",
    "        y1 = int(Coord1[idx1].pt[1])\n",
    "        x2 = int(Coord2[idx2].pt[0])\n",
    "        y2 = int(Coord2[idx2].pt[1]) + left.shape[1]\n",
    "        cv.line(output, (y1,x1),(y2,x2), (0,0,255), 2)\n",
    "    cv.imwrite(\"Coores_%s_%s.png\" %(input_image1, metric), output) "
   ]
  },
  {
   "cell_type": "code",
   "execution_count": 2,
   "metadata": {},
   "outputs": [
    {
     "ename": "error",
     "evalue": "OpenCV(3.4.3) /io/opencv_contrib/modules/xfeatures2d/src/sift.cpp:1207: error: (-213:The function/feature is not implemented) This algorithm is patented and is excluded in this configuration; Set OPENCV_ENABLE_NONFREE CMake option and rebuild the library in function 'create'\n",
     "output_type": "error",
     "traceback": [
      "\u001b[0;31m---------------------------------------------------------------------------\u001b[0m",
      "\u001b[0;31merror\u001b[0m                                     Traceback (most recent call last)",
      "\u001b[0;32m<ipython-input-2-b9f1b344be61>\u001b[0m in \u001b[0;36m<module>\u001b[0;34m()\u001b[0m\n\u001b[1;32m      4\u001b[0m \u001b[0;31m# SIFT Feature\u001b[0m\u001b[0;34m\u001b[0m\u001b[0;34m\u001b[0m\u001b[0m\n\u001b[1;32m      5\u001b[0m \u001b[0mgray\u001b[0m\u001b[0;34m=\u001b[0m \u001b[0mcv\u001b[0m\u001b[0;34m.\u001b[0m\u001b[0mcvtColor\u001b[0m\u001b[0;34m(\u001b[0m\u001b[0mimg\u001b[0m\u001b[0;34m,\u001b[0m\u001b[0mcv\u001b[0m\u001b[0;34m.\u001b[0m\u001b[0mCOLOR_BGR2GRAY\u001b[0m\u001b[0;34m)\u001b[0m\u001b[0;34m\u001b[0m\u001b[0m\n\u001b[0;32m----> 6\u001b[0;31m \u001b[0msift\u001b[0m \u001b[0;34m=\u001b[0m \u001b[0mcv\u001b[0m\u001b[0;34m.\u001b[0m\u001b[0mxfeatures2d\u001b[0m\u001b[0;34m.\u001b[0m\u001b[0mSIFT_create\u001b[0m\u001b[0;34m(\u001b[0m\u001b[0;34m)\u001b[0m\u001b[0;34m\u001b[0m\u001b[0m\n\u001b[0m\u001b[1;32m      7\u001b[0m \u001b[0mkp1\u001b[0m\u001b[0;34m,\u001b[0m \u001b[0mdes1\u001b[0m \u001b[0;34m=\u001b[0m \u001b[0msift\u001b[0m\u001b[0;34m.\u001b[0m\u001b[0mdetectAndCompute\u001b[0m\u001b[0;34m(\u001b[0m\u001b[0mgray\u001b[0m\u001b[0;34m,\u001b[0m\u001b[0;32mNone\u001b[0m\u001b[0;34m)\u001b[0m\u001b[0;34m\u001b[0m\u001b[0m\n\u001b[1;32m      8\u001b[0m \u001b[0mcv\u001b[0m\u001b[0;34m.\u001b[0m\u001b[0mdrawKeypoints\u001b[0m\u001b[0;34m(\u001b[0m\u001b[0mimg\u001b[0m\u001b[0;34m,\u001b[0m\u001b[0mkp1\u001b[0m\u001b[0;34m,\u001b[0m\u001b[0mimg\u001b[0m\u001b[0;34m)\u001b[0m\u001b[0;34m\u001b[0m\u001b[0m\n",
      "\u001b[0;31merror\u001b[0m: OpenCV(3.4.3) /io/opencv_contrib/modules/xfeatures2d/src/sift.cpp:1207: error: (-213:The function/feature is not implemented) This algorithm is patented and is excluded in this configuration; Set OPENCV_ENABLE_NONFREE CMake option and rebuild the library in function 'create'\n"
     ]
    }
   ],
   "source": [
    "# Input    \n",
    "input_image1, input_image2 = (\"1\", \"2\")\n",
    "img = cv.imread('HW4Pics/%s.jpg' %input_image1)\n",
    "# SIFT Feature\n",
    "gray= cv.cvtColor(img,cv.COLOR_BGR2GRAY)\n",
    "sift = cv.xfeatures2d.SIFT_create()\n",
    "kp1, des1 = sift.detectAndCompute(gray,None)\n",
    "cv.drawKeypoints(img,kp1,img)\n",
    "cv.imwrite('save_%s.jpg' %input_image1, img)\n",
    "\n",
    "# Input    \n",
    "img = cv.imread('HW4Pics/%s.jpg' %input_image2)\n",
    "# SIFT Feature\n",
    "gray= cv.cvtColor(img,cv.COLOR_BGR2GRAY)\n",
    "sift = cv.xfeatures2d.SIFT_create()\n",
    "kp2, des2 = sift.detectAndCompute(gray,None)\n",
    "cv.drawKeypoints(img,kp2,img)\n",
    "cv.imwrite('save_%s.jpg' %input_image2, img)\n",
    "\n",
    "Pairs = Correspondence(des1, kp1, des2, kp2, metric = \"SSD\")\n",
    "DrawPairs(input_image1, input_image2, kp1, kp2, Pairs, metric = \"SSD\")\n",
    "Pairs = Correspondence(des1, kp1, des2, kp2, metric = \"NCC\")\n",
    "DrawPairs(input_image1, input_image2, kp1, kp2, Pairs, metric = \"NCC\")"
   ]
  },
  {
   "cell_type": "code",
   "execution_count": 63,
   "metadata": {},
   "outputs": [
    {
     "name": "stdout",
     "output_type": "stream",
     "text": [
      "Find 1521 key points\n",
      "Find 2057 key points\n"
     ]
    }
   ],
   "source": [
    "# Input    \n",
    "input_image1, input_image2 = (\"Truck1\", \"Truck2\")\n",
    "img = cv.imread('HW4Pics/%s.jpg' %input_image1)\n",
    "# SIFT Feature\n",
    "gray= cv.cvtColor(img,cv.COLOR_BGR2GRAY)\n",
    "sift = cv.xfeatures2d.SIFT_create()\n",
    "kp1, des1 = sift.detectAndCompute(gray,None)\n",
    "cv.drawKeypoints(img,kp1,img)\n",
    "cv.imwrite('save_%s.jpg' %input_image1, img)\n",
    "print(\"Find %d key points\" %len(kp1))\n",
    "\n",
    "# Input    \n",
    "img = cv.imread('HW4Pics/%s.jpg' %input_image2)\n",
    "# SIFT Feature\n",
    "gray= cv.cvtColor(img,cv.COLOR_BGR2GRAY)\n",
    "sift = cv.xfeatures2d.SIFT_create()\n",
    "kp2, des2 = sift.detectAndCompute(gray,None)\n",
    "cv.drawKeypoints(img,kp2,img)\n",
    "cv.imwrite('save_%s.jpg' %input_image2, img)\n",
    "print(\"Find %d key points\" %len(kp2))\n",
    "\n",
    "Pairs = Correspondence(des1, kp1, des2, kp2, metric = \"SSD\")\n",
    "DrawPairs(input_image1, input_image2, kp1, kp2, Pairs, metric = \"SSD\")\n",
    "Pairs = Correspondence(des1, kp1, des2, kp2, metric = \"NCC\")\n",
    "DrawPairs(input_image1, input_image2, kp1, kp2, Pairs, metric = \"NCC\")"
   ]
  },
  {
   "cell_type": "code",
   "execution_count": 64,
   "metadata": {},
   "outputs": [
    {
     "name": "stdout",
     "output_type": "stream",
     "text": [
      "Find 655 key points\n",
      "Find 690 key points\n"
     ]
    }
   ],
   "source": [
    "# Input    \n",
    "input_image1, input_image2 = (\"Fountain1\", \"Fountain2\")\n",
    "img = cv.imread('HW4Pics/%s.jpg' %input_image1)\n",
    "# SIFT Feature\n",
    "gray= cv.cvtColor(img,cv.COLOR_BGR2GRAY)\n",
    "sift = cv.xfeatures2d.SIFT_create()\n",
    "kp1, des1 = sift.detectAndCompute(gray,None)\n",
    "cv.drawKeypoints(img,kp1,img)\n",
    "cv.imwrite('save_%s.jpg' %input_image1, img)\n",
    "print(\"Find %d key points\" %len(kp1))\n",
    "\n",
    "# Input    \n",
    "img = cv.imread('HW4Pics/%s.jpg' %input_image2)\n",
    "# SIFT Feature\n",
    "gray= cv.cvtColor(img,cv.COLOR_BGR2GRAY)\n",
    "sift = cv.xfeatures2d.SIFT_create()\n",
    "kp2, des2 = sift.detectAndCompute(gray,None)\n",
    "cv.drawKeypoints(img,kp2,img)\n",
    "cv.imwrite('save_%s.jpg' %input_image2, img)\n",
    "print(\"Find %d key points\" %len(kp2))\n",
    "\n",
    "Pairs = Correspondence(des1, kp1, des2, kp2, metric = \"SSD\")\n",
    "DrawPairs(input_image1, input_image2, kp1, kp2, Pairs, metric = \"SSD\")\n",
    "Pairs = Correspondence(des1, kp1, des2, kp2, metric = \"NCC\")\n",
    "DrawPairs(input_image1, input_image2, kp1, kp2, Pairs, metric = \"NCC\")"
   ]
  },
  {
   "cell_type": "code",
   "execution_count": 65,
   "metadata": {},
   "outputs": [
    {
     "name": "stdout",
     "output_type": "stream",
     "text": [
      "Find 1337 key points\n",
      "Find 1083 key points\n"
     ]
    }
   ],
   "source": [
    "# Input    \n",
    "input_image1, input_image2 = (\"Tower1\", \"Tower2\")\n",
    "img = cv.imread('HW4Pics/%s.jpg' %input_image1)\n",
    "# SIFT Feature\n",
    "gray= cv.cvtColor(img,cv.COLOR_BGR2GRAY)\n",
    "sift = cv.xfeatures2d.SIFT_create()\n",
    "kp1, des1 = sift.detectAndCompute(gray,None)\n",
    "cv.drawKeypoints(img,kp1,img)\n",
    "cv.imwrite('save_%s.jpg' %input_image1, img)\n",
    "print(\"Find %d key points\" %len(kp1))\n",
    "\n",
    "# Input    \n",
    "img = cv.imread('HW4Pics/%s.jpg' %input_image2)\n",
    "# SIFT Feature\n",
    "gray= cv.cvtColor(img,cv.COLOR_BGR2GRAY)\n",
    "sift = cv.xfeatures2d.SIFT_create()\n",
    "kp2, des2 = sift.detectAndCompute(gray,None)\n",
    "cv.drawKeypoints(img,kp2,img)\n",
    "cv.imwrite('save_%s.jpg' %input_image2, img)\n",
    "print(\"Find %d key points\" %len(kp2))\n",
    "\n",
    "Pairs = Correspondence(des1, kp1, des2, kp2, metric = \"SSD\")\n",
    "DrawPairs(input_image1, input_image2, kp1, kp2, Pairs, metric = \"SSD\")\n",
    "Pairs = Correspondence(des1, kp1, des2, kp2, metric = \"NCC\")\n",
    "DrawPairs(input_image1, input_image2, kp1, kp2, Pairs, metric = \"NCC\")"
   ]
  }
 ],
 "metadata": {
  "kernelspec": {
   "display_name": "Python 3",
   "language": "python",
   "name": "python3"
  },
  "language_info": {
   "codemirror_mode": {
    "name": "ipython",
    "version": 3
   },
   "file_extension": ".py",
   "mimetype": "text/x-python",
   "name": "python",
   "nbconvert_exporter": "python",
   "pygments_lexer": "ipython3",
   "version": "3.6.4"
  }
 },
 "nbformat": 4,
 "nbformat_minor": 2
}
